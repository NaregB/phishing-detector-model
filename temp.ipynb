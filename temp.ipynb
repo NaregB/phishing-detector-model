{
 "cells": [
  {
   "cell_type": "code",
   "execution_count": 36,
   "metadata": {
    "collapsed": true
   },
   "outputs": [],
   "source": [
    "from model.PhishingModel import PhishingModel\n",
    "import numpy as np\n",
    "\n",
    "model = PhishingModel()"
   ]
  },
  {
   "cell_type": "code",
   "execution_count": 37,
   "outputs": [],
   "source": [
    "subjects = [\n",
    "    \"Urgent! Your account has been compromised\",\n",
    "    \"Reminder: Team Meeting Tomorrow at 2pm\"\n",
    "]\n",
    "\n",
    "texts = [\n",
    "    \"\"\"\n",
    "    Dear valued customer,\n",
    "\n",
    "    We regret to inform you that your account has been compromised. Our system has detected suspicious activity on your account, and we suspect that an unauthorized user may have gained access to your personal information.\n",
    "\n",
    "    In order to protect your account, we kindly request that you click on the following link to reset your password and secure your account: http://somelink.abc\n",
    "\n",
    "    Please note that failure to reset your password within 24 hours may result in the suspension of your account.\n",
    "\n",
    "    Thank you for your prompt attention to this matter.\n",
    "\n",
    "    Sincerely,\n",
    "    The Security Team\n",
    "    \"\"\",\n",
    "\n",
    "    \"\"\"\n",
    "    Dear Team,\n",
    "\n",
    "    This is a friendly reminder that we have a team meeting scheduled for tomorrow at 2pm in the conference room. Please come prepared with any updates or items you'd like to discuss.\n",
    "\n",
    "    Agenda:\n",
    "\n",
    "    Project updates\n",
    "    Team building event\n",
    "    Open discussion\n",
    "    If you are unable to attend, please let me know as soon as possible so that we can make alternative arrangements.\n",
    "\n",
    "    Looking forward to seeing you all tomorrow!\n",
    "\n",
    "    Best regards,\n",
    "    \"\"\"\n",
    "]"
   ],
   "metadata": {
    "collapsed": false
   }
  },
  {
   "cell_type": "code",
   "execution_count": 38,
   "outputs": [],
   "source": [
    "i = 1\n",
    "subject = subjects[i].lower()\n",
    "text = texts[i].lower()"
   ],
   "metadata": {
    "collapsed": false
   }
  },
  {
   "cell_type": "code",
   "execution_count": 39,
   "outputs": [
    {
     "name": "stdout",
     "output_type": "stream",
     "text": [
      "['text_link_disparity', 're_mail', 'urls', 'body_richness', 'contains_prime_targets', 'contains_account', 'domains', 'HTML', 'malicious_urls', 'ip_urls', 'general_salutation', 'attachments', 'dots_count', 'hex_urls', 'mailto', 'contains_update', 'contains_access']\n"
     ]
    }
   ],
   "source": [
    "features = model.get_features()\n",
    "print(features)"
   ],
   "metadata": {
    "collapsed": false
   }
  },
  {
   "cell_type": "code",
   "execution_count": 40,
   "outputs": [],
   "source": [
    "contains_access = \"access\" in text\n",
    "contains_update = \"update\" in text\n",
    "mailto = \"mailto\" in text\n",
    "hex_urls = 0 # todo\n",
    "dots_count = text.count(\".\")\n",
    "attachments = 0 # todo\n",
    "general_salutation = text.startswith(\"dear\") or text.startswith(\"hi\") or text.startswith(\"hello\")\n",
    "ip_urls = 0 # todo\n",
    "malicious_urls = 0 # todo\n",
    "HTML = 0\n",
    "domains = 0\n",
    "contains_account = \"account\" in text\n",
    "contains_prime_targets = 0 # todo\n",
    "body_richness = 1.33\n",
    "urls = 0\n",
    "re_mail = 0\n",
    "text_link_disparity = 0"
   ],
   "metadata": {
    "collapsed": false
   }
  },
  {
   "cell_type": "code",
   "execution_count": 41,
   "outputs": [],
   "source": [
    "test_data = [text_link_disparity, re_mail, urls, body_richness, contains_prime_targets, contains_account, domains, HTML, malicious_urls, ip_urls, general_salutation, attachments, dots_count, hex_urls, mailto, contains_update, contains_access]"
   ],
   "metadata": {
    "collapsed": false
   }
  },
  {
   "cell_type": "code",
   "execution_count": 42,
   "outputs": [
    {
     "name": "stdout",
     "output_type": "stream",
     "text": [
      "[0]\n"
     ]
    },
    {
     "name": "stderr",
     "output_type": "stream",
     "text": [
      "/Users/Ruben_Danielyan/PycharmProjects/phishing-detect/venv/lib/python3.9/site-packages/sklearn/base.py:439: UserWarning: X does not have valid feature names, but RandomForestClassifier was fitted with feature names\n",
      "  warnings.warn(\n"
     ]
    }
   ],
   "source": [
    "# result = model.predict(np.array(test_data).reshape(1, -1))\n",
    "result = model.predict(np.array([test_data]))\n",
    "print(result)"
   ],
   "metadata": {
    "collapsed": false
   }
  }
 ],
 "metadata": {
  "kernelspec": {
   "display_name": "Python 3",
   "language": "python",
   "name": "python3"
  },
  "language_info": {
   "codemirror_mode": {
    "name": "ipython",
    "version": 2
   },
   "file_extension": ".py",
   "mimetype": "text/x-python",
   "name": "python",
   "nbconvert_exporter": "python",
   "pygments_lexer": "ipython2",
   "version": "2.7.6"
  }
 },
 "nbformat": 4,
 "nbformat_minor": 0
}
